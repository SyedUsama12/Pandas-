{
 "cells": [
  {
   "cell_type": "code",
   "execution_count": 1,
   "id": "specialized-detection",
   "metadata": {},
   "outputs": [],
   "source": [
    "import numpy as np\n",
    "import pandas as pd"
   ]
  },
  {
   "cell_type": "code",
   "execution_count": 21,
   "id": "upset-liabilities",
   "metadata": {},
   "outputs": [
    {
     "data": {
      "text/plain": [
       "mon     2\n",
       "tue     a\n",
       "wed     b\n",
       "thur    5\n",
       "Name: for month sales, dtype: object"
      ]
     },
     "execution_count": 21,
     "metadata": {},
     "output_type": "execute_result"
    }
   ],
   "source": [
    "s = pd.Series([2,\"a\",\"b\",5],index=[\"mon\",\"tue\",\"wed\",\"thur\"],name=\"for month sales\")\n",
    "s"
   ]
  },
  {
   "cell_type": "code",
   "execution_count": 256,
   "id": "palestinian-entry",
   "metadata": {},
   "outputs": [
    {
     "data": {
      "text/plain": [
       "array([2, 'a', 'b', 5], dtype=object)"
      ]
     },
     "execution_count": 256,
     "metadata": {},
     "output_type": "execute_result"
    }
   ],
   "source": [
    "s.values"
   ]
  },
  {
   "cell_type": "code",
   "execution_count": 257,
   "id": "sapphire-aging",
   "metadata": {},
   "outputs": [
    {
     "data": {
      "text/plain": [
       "Index(['mon', 'tue', 'wed', 'thur'], dtype='object')"
      ]
     },
     "execution_count": 257,
     "metadata": {},
     "output_type": "execute_result"
    }
   ],
   "source": [
    "s.index"
   ]
  },
  {
   "cell_type": "code",
   "execution_count": 258,
   "id": "arbitrary-scholarship",
   "metadata": {},
   "outputs": [
    {
     "data": {
      "text/plain": [
       "mon    35\n",
       "tue    40\n",
       "wed    54\n",
       "thu    65\n",
       "fri    84\n",
       "sat    10\n",
       "sun     0\n",
       "Name: Sandwiches sale per week, dtype: int64"
      ]
     },
     "execution_count": 258,
     "metadata": {},
     "output_type": "execute_result"
    }
   ],
   "source": [
    "sw = pd.Series([35,40,54,65,84,10,0],index=[\"mon\",\"tue\",\"wed\",\"thu\",\"fri\",\"sat\",\"sun\"],name=\"Sandwiches sale per week\")\n",
    "sw"
   ]
  },
  {
   "cell_type": "code",
   "execution_count": 259,
   "id": "social-monte",
   "metadata": {},
   "outputs": [
    {
     "data": {
      "text/plain": [
       "35"
      ]
     },
     "execution_count": 259,
     "metadata": {},
     "output_type": "execute_result"
    }
   ],
   "source": [
    "sw[0]"
   ]
  },
  {
   "cell_type": "code",
   "execution_count": 260,
   "id": "parental-oxide",
   "metadata": {},
   "outputs": [
    {
     "data": {
      "text/plain": [
       "35"
      ]
     },
     "execution_count": 260,
     "metadata": {},
     "output_type": "execute_result"
    }
   ],
   "source": [
    "sw[\"mon\"]"
   ]
  },
  {
   "cell_type": "code",
   "execution_count": 261,
   "id": "photographic-finland",
   "metadata": {},
   "outputs": [
    {
     "data": {
      "text/plain": [
       "wed    54\n",
       "thu    65\n",
       "fri    84\n",
       "Name: Sandwiches sale per week, dtype: int64"
      ]
     },
     "execution_count": 261,
     "metadata": {},
     "output_type": "execute_result"
    }
   ],
   "source": [
    "sw[2:5]"
   ]
  },
  {
   "cell_type": "code",
   "execution_count": 262,
   "id": "twelve-share",
   "metadata": {},
   "outputs": [
    {
     "data": {
      "text/plain": [
       "wed    54\n",
       "sat    10\n",
       "Name: Sandwiches sale per week, dtype: int64"
      ]
     },
     "execution_count": 262,
     "metadata": {},
     "output_type": "execute_result"
    }
   ],
   "source": [
    "sw[[2,5]]"
   ]
  },
  {
   "cell_type": "code",
   "execution_count": 263,
   "id": "former-playback",
   "metadata": {},
   "outputs": [
    {
     "data": {
      "text/plain": [
       "mon    35\n",
       "wed    54\n",
       "Name: Sandwiches sale per week, dtype: int64"
      ]
     },
     "execution_count": 263,
     "metadata": {},
     "output_type": "execute_result"
    }
   ],
   "source": [
    "sw[[\"mon\",\"wed\"]]"
   ]
  },
  {
   "cell_type": "code",
   "execution_count": 264,
   "id": "every-angel",
   "metadata": {},
   "outputs": [
    {
     "data": {
      "text/plain": [
       "tue    40\n",
       "wed    54\n",
       "thu    65\n",
       "fri    84\n",
       "Name: Sandwiches sale per week, dtype: int64"
      ]
     },
     "execution_count": 264,
     "metadata": {},
     "output_type": "execute_result"
    }
   ],
   "source": [
    "sw[sw>35]"
   ]
  },
  {
   "cell_type": "code",
   "execution_count": 265,
   "id": "residential-thompson",
   "metadata": {},
   "outputs": [
    {
     "data": {
      "text/plain": [
       "mon     70\n",
       "tue     80\n",
       "wed    108\n",
       "thu    130\n",
       "fri    168\n",
       "sat     20\n",
       "sun      0\n",
       "Name: Sandwiches sale per week, dtype: int64"
      ]
     },
     "execution_count": 265,
     "metadata": {},
     "output_type": "execute_result"
    }
   ],
   "source": [
    "sw*2"
   ]
  },
  {
   "cell_type": "code",
   "execution_count": 266,
   "id": "portable-pakistan",
   "metadata": {},
   "outputs": [
    {
     "name": "stdout",
     "output_type": "stream",
     "text": [
      "mon    35\n",
      "tue    40\n",
      "wed    54\n",
      "thu    65\n",
      "fri    84\n",
      "sat    10\n",
      "sun     0\n",
      "Name: Sandwiches sale per week, dtype: int64\n",
      "mon     70\n",
      "tue     80\n",
      "wed    108\n",
      "thu    130\n",
      "fri    168\n",
      "sat     20\n",
      "sun      0\n",
      "Name: Sandwiches sale per week, dtype: int64\n"
     ]
    }
   ],
   "source": [
    "print(sw)\n",
    "sw=sw*2\n",
    "print(sw)"
   ]
  },
  {
   "cell_type": "code",
   "execution_count": 267,
   "id": "uniform-ribbon",
   "metadata": {},
   "outputs": [
    {
     "data": {
      "text/plain": [
       "True"
      ]
     },
     "execution_count": 267,
     "metadata": {},
     "output_type": "execute_result"
    }
   ],
   "source": [
    "\"mon\" in sw"
   ]
  },
  {
   "cell_type": "code",
   "execution_count": 268,
   "id": "creative-planet",
   "metadata": {},
   "outputs": [
    {
     "data": {
      "text/plain": [
       "False"
      ]
     },
     "execution_count": 268,
     "metadata": {},
     "output_type": "execute_result"
    }
   ],
   "source": [
    "\"mon\" not in sw"
   ]
  },
  {
   "cell_type": "code",
   "execution_count": 269,
   "id": "indie-present",
   "metadata": {},
   "outputs": [
    {
     "data": {
      "text/plain": [
       "a     2\n",
       "b    45\n",
       "c     5\n",
       "d     8\n",
       "dtype: int64"
      ]
     },
     "execution_count": 269,
     "metadata": {},
     "output_type": "execute_result"
    }
   ],
   "source": [
    "arr = np.array([2,45,5,8])\n",
    "ar = np.array([\"a\",\"b\",\"c\",\"d\"])\n",
    "obj2  = pd.Series(arr,index=ar)\n",
    "obj2"
   ]
  },
  {
   "cell_type": "code",
   "execution_count": 270,
   "id": "western-might",
   "metadata": {},
   "outputs": [
    {
     "data": {
      "text/plain": [
       "sindh          4000.0\n",
       "Balochistan    2000.0\n",
       "punjab         5000.0\n",
       "KPK            3000.0\n",
       "GB                NaN\n",
       "dtype: float64"
      ]
     },
     "execution_count": 270,
     "metadata": {},
     "output_type": "execute_result"
    }
   ],
   "source": [
    "data = {\"sindh\":4000,\"punjab\":5000,\"KPK\":3000,\"Balochistan\":2000}\n",
    "tax_by_state =pd.Series(data, index=[\"sindh\",\"Balochistan\",\"punjab\",\"KPK\",\"GB\"])\n",
    "tax_by_state"
   ]
  },
  {
   "cell_type": "code",
   "execution_count": 271,
   "id": "incident-civilization",
   "metadata": {},
   "outputs": [
    {
     "data": {
      "text/plain": [
       "sindh          False\n",
       "Balochistan    False\n",
       "punjab         False\n",
       "KPK            False\n",
       "GB              True\n",
       "dtype: bool"
      ]
     },
     "execution_count": 271,
     "metadata": {},
     "output_type": "execute_result"
    }
   ],
   "source": [
    "pd.isnull(tax_by_state)\n"
   ]
  },
  {
   "cell_type": "code",
   "execution_count": 272,
   "id": "compliant-crowd",
   "metadata": {},
   "outputs": [
    {
     "data": {
      "text/plain": [
       "state name\n",
       "sindh          4000.0\n",
       "Balochistan    2000.0\n",
       "punjab         5000.0\n",
       "KPK            3000.0\n",
       "GB                NaN\n",
       "Name: total tax of state, dtype: float64"
      ]
     },
     "execution_count": 272,
     "metadata": {},
     "output_type": "execute_result"
    }
   ],
   "source": [
    "tax_by_state.name=\"total tax of state\"\n",
    "tax_by_state.index.name=\"state name\"\n",
    "tax_by_state"
   ]
  },
  {
   "cell_type": "code",
   "execution_count": 273,
   "id": "orange-factor",
   "metadata": {},
   "outputs": [
    {
     "data": {
      "text/plain": [
       "m      70\n",
       "t      80\n",
       "w     108\n",
       "th    130\n",
       "f     168\n",
       "s      20\n",
       "su      0\n",
       "Name: Sandwiches sale per week, dtype: int64"
      ]
     },
     "execution_count": 273,
     "metadata": {},
     "output_type": "execute_result"
    }
   ],
   "source": [
    "sw.index=[\"m\",\"t\",\"w\",\"th\",\"f\",\"s\",\"su\"]\n",
    "sw"
   ]
  },
  {
   "cell_type": "code",
   "execution_count": 274,
   "id": "incomplete-atmosphere",
   "metadata": {},
   "outputs": [
    {
     "data": {
      "text/html": [
       "<div>\n",
       "<style scoped>\n",
       "    .dataframe tbody tr th:only-of-type {\n",
       "        vertical-align: middle;\n",
       "    }\n",
       "\n",
       "    .dataframe tbody tr th {\n",
       "        vertical-align: top;\n",
       "    }\n",
       "\n",
       "    .dataframe thead th {\n",
       "        text-align: right;\n",
       "    }\n",
       "</style>\n",
       "<table border=\"1\" class=\"dataframe\">\n",
       "  <thead>\n",
       "    <tr style=\"text-align: right;\">\n",
       "      <th></th>\n",
       "      <th>apple</th>\n",
       "      <th>oranges</th>\n",
       "    </tr>\n",
       "  </thead>\n",
       "  <tbody>\n",
       "    <tr>\n",
       "      <th>a</th>\n",
       "      <td>4</td>\n",
       "      <td>2</td>\n",
       "    </tr>\n",
       "    <tr>\n",
       "      <th>b</th>\n",
       "      <td>5</td>\n",
       "      <td>1</td>\n",
       "    </tr>\n",
       "    <tr>\n",
       "      <th>c</th>\n",
       "      <td>6</td>\n",
       "      <td>4</td>\n",
       "    </tr>\n",
       "    <tr>\n",
       "      <th>d</th>\n",
       "      <td>7</td>\n",
       "      <td>5</td>\n",
       "    </tr>\n",
       "  </tbody>\n",
       "</table>\n",
       "</div>"
      ],
      "text/plain": [
       "   apple  oranges\n",
       "a      4        2\n",
       "b      5        1\n",
       "c      6        4\n",
       "d      7        5"
      ]
     },
     "execution_count": 274,
     "metadata": {},
     "output_type": "execute_result"
    }
   ],
   "source": [
    "oranges=pd.Series( [2,1,4,5],index=[\"a\",\"b\",\"c\",\"d\"])\n",
    "apple=pd.Series([4,5,6,7],index=[\"a\",\"b\",\"c\",\"d\"])\n",
    "data={\"apple\":apple,\"oranges\":oranges}\n",
    "data1=pd.DataFrame(data)\n",
    "data1"
   ]
  },
  {
   "cell_type": "code",
   "execution_count": 275,
   "id": "animal-sewing",
   "metadata": {},
   "outputs": [
    {
     "data": {
      "text/html": [
       "<div>\n",
       "<style scoped>\n",
       "    .dataframe tbody tr th:only-of-type {\n",
       "        vertical-align: middle;\n",
       "    }\n",
       "\n",
       "    .dataframe tbody tr th {\n",
       "        vertical-align: top;\n",
       "    }\n",
       "\n",
       "    .dataframe thead th {\n",
       "        text-align: right;\n",
       "    }\n",
       "</style>\n",
       "<table border=\"1\" class=\"dataframe\">\n",
       "  <thead>\n",
       "    <tr style=\"text-align: right;\">\n",
       "      <th></th>\n",
       "      <th>pop</th>\n",
       "      <th>year</th>\n",
       "      <th>state</th>\n",
       "    </tr>\n",
       "  </thead>\n",
       "  <tbody>\n",
       "    <tr>\n",
       "      <th>m</th>\n",
       "      <td>ohio</td>\n",
       "      <td>2000</td>\n",
       "      <td>1.5</td>\n",
       "    </tr>\n",
       "    <tr>\n",
       "      <th>t</th>\n",
       "      <td>ohio</td>\n",
       "      <td>2002</td>\n",
       "      <td>2.0</td>\n",
       "    </tr>\n",
       "    <tr>\n",
       "      <th>W</th>\n",
       "      <td>ohio</td>\n",
       "      <td>2004</td>\n",
       "      <td>3.0</td>\n",
       "    </tr>\n",
       "    <tr>\n",
       "      <th>Tu</th>\n",
       "      <td>navada</td>\n",
       "      <td>2010</td>\n",
       "      <td>2.0</td>\n",
       "    </tr>\n",
       "    <tr>\n",
       "      <th>f</th>\n",
       "      <td>navada</td>\n",
       "      <td>2001</td>\n",
       "      <td>5.0</td>\n",
       "    </tr>\n",
       "  </tbody>\n",
       "</table>\n",
       "</div>"
      ],
      "text/plain": [
       "       pop  year  state\n",
       "m     ohio  2000    1.5\n",
       "t     ohio  2002    2.0\n",
       "W     ohio  2004    3.0\n",
       "Tu  navada  2010    2.0\n",
       "f   navada  2001    5.0"
      ]
     },
     "execution_count": 275,
     "metadata": {},
     "output_type": "execute_result"
    }
   ],
   "source": [
    "data2= {\"state\":[\"ohio\",\"ohio\",\"ohio\",\"navada\",\"navada\"],\n",
    "        \"year\":[2000,2002,2004,2010,2001],\n",
    "        \"pop\":[1.5,2.0,3,2,5]}\n",
    "frame=pd.DataFrame(data2,index=[\"m\",\"t\",\"W\",\"Tu\",\"f\"])\n",
    "frame.columns=[\"pop\",\"year\",\"state\"]\n",
    "frame"
   ]
  },
  {
   "cell_type": "code",
   "execution_count": 276,
   "id": "liable-point",
   "metadata": {},
   "outputs": [
    {
     "data": {
      "text/html": [
       "<div>\n",
       "<style scoped>\n",
       "    .dataframe tbody tr th:only-of-type {\n",
       "        vertical-align: middle;\n",
       "    }\n",
       "\n",
       "    .dataframe tbody tr th {\n",
       "        vertical-align: top;\n",
       "    }\n",
       "\n",
       "    .dataframe thead th {\n",
       "        text-align: right;\n",
       "    }\n",
       "</style>\n",
       "<table border=\"1\" class=\"dataframe\">\n",
       "  <thead>\n",
       "    <tr style=\"text-align: right;\">\n",
       "      <th></th>\n",
       "      <th>year</th>\n",
       "      <th>pop</th>\n",
       "      <th>state</th>\n",
       "      <th>debt</th>\n",
       "    </tr>\n",
       "  </thead>\n",
       "  <tbody>\n",
       "    <tr>\n",
       "      <th>one</th>\n",
       "      <td>2000</td>\n",
       "      <td>1.5</td>\n",
       "      <td>ohio</td>\n",
       "      <td>NaN</td>\n",
       "    </tr>\n",
       "    <tr>\n",
       "      <th>two</th>\n",
       "      <td>2002</td>\n",
       "      <td>2.0</td>\n",
       "      <td>ohio</td>\n",
       "      <td>NaN</td>\n",
       "    </tr>\n",
       "    <tr>\n",
       "      <th>three</th>\n",
       "      <td>2004</td>\n",
       "      <td>3.0</td>\n",
       "      <td>ohio</td>\n",
       "      <td>NaN</td>\n",
       "    </tr>\n",
       "    <tr>\n",
       "      <th>fourth</th>\n",
       "      <td>2010</td>\n",
       "      <td>2.0</td>\n",
       "      <td>navada</td>\n",
       "      <td>NaN</td>\n",
       "    </tr>\n",
       "    <tr>\n",
       "      <th>fifth</th>\n",
       "      <td>2001</td>\n",
       "      <td>5.0</td>\n",
       "      <td>navada</td>\n",
       "      <td>NaN</td>\n",
       "    </tr>\n",
       "  </tbody>\n",
       "</table>\n",
       "</div>"
      ],
      "text/plain": [
       "        year  pop   state debt\n",
       "one     2000  1.5    ohio  NaN\n",
       "two     2002  2.0    ohio  NaN\n",
       "three   2004  3.0    ohio  NaN\n",
       "fourth  2010  2.0  navada  NaN\n",
       "fifth   2001  5.0  navada  NaN"
      ]
     },
     "execution_count": 276,
     "metadata": {},
     "output_type": "execute_result"
    }
   ],
   "source": [
    "frame2 =pd.DataFrame(data2,index=[\"one\",\"two\",\"three\",\"fourth\",\"fifth\"],columns=[\"year\",\"pop\",\"state\",\"debt\"])\n",
    "frame2"
   ]
  },
  {
   "cell_type": "code",
   "execution_count": 277,
   "id": "amended-estate",
   "metadata": {},
   "outputs": [
    {
     "name": "stdout",
     "output_type": "stream",
     "text": [
      "Index(['year', 'pop', 'state', 'debt'], dtype='object')\n",
      "Index(['one', 'two', 'three', 'fourth', 'fifth'], dtype='object')\n"
     ]
    }
   ],
   "source": [
    "print(frame2.columns)\n",
    "print(frame2.index)"
   ]
  },
  {
   "cell_type": "code",
   "execution_count": 278,
   "id": "circular-wagner",
   "metadata": {},
   "outputs": [
    {
     "data": {
      "text/plain": [
       "year     2004\n",
       "pop       3.0\n",
       "state    ohio\n",
       "debt      NaN\n",
       "Name: three, dtype: object"
      ]
     },
     "execution_count": 278,
     "metadata": {},
     "output_type": "execute_result"
    }
   ],
   "source": [
    "frame2.loc[\"three\"]"
   ]
  },
  {
   "cell_type": "code",
   "execution_count": 279,
   "id": "interstate-excitement",
   "metadata": {},
   "outputs": [
    {
     "data": {
      "text/plain": [
       "2004"
      ]
     },
     "execution_count": 279,
     "metadata": {},
     "output_type": "execute_result"
    }
   ],
   "source": [
    "frame2[\"year\"].iloc[2]\n"
   ]
  },
  {
   "cell_type": "code",
   "execution_count": 280,
   "id": "varied-association",
   "metadata": {},
   "outputs": [
    {
     "data": {
      "text/html": [
       "<div>\n",
       "<style scoped>\n",
       "    .dataframe tbody tr th:only-of-type {\n",
       "        vertical-align: middle;\n",
       "    }\n",
       "\n",
       "    .dataframe tbody tr th {\n",
       "        vertical-align: top;\n",
       "    }\n",
       "\n",
       "    .dataframe thead th {\n",
       "        text-align: right;\n",
       "    }\n",
       "</style>\n",
       "<table border=\"1\" class=\"dataframe\">\n",
       "  <thead>\n",
       "    <tr style=\"text-align: right;\">\n",
       "      <th></th>\n",
       "      <th>year</th>\n",
       "      <th>pop</th>\n",
       "      <th>state</th>\n",
       "      <th>debt</th>\n",
       "    </tr>\n",
       "  </thead>\n",
       "  <tbody>\n",
       "    <tr>\n",
       "      <th>one</th>\n",
       "      <td>2000</td>\n",
       "      <td>1.5</td>\n",
       "      <td>ohio</td>\n",
       "      <td>4</td>\n",
       "    </tr>\n",
       "    <tr>\n",
       "      <th>two</th>\n",
       "      <td>2002</td>\n",
       "      <td>2.0</td>\n",
       "      <td>ohio</td>\n",
       "      <td>4</td>\n",
       "    </tr>\n",
       "    <tr>\n",
       "      <th>three</th>\n",
       "      <td>2004</td>\n",
       "      <td>3.0</td>\n",
       "      <td>ohio</td>\n",
       "      <td>4</td>\n",
       "    </tr>\n",
       "    <tr>\n",
       "      <th>fourth</th>\n",
       "      <td>2010</td>\n",
       "      <td>2.0</td>\n",
       "      <td>navada</td>\n",
       "      <td>4</td>\n",
       "    </tr>\n",
       "    <tr>\n",
       "      <th>fifth</th>\n",
       "      <td>2001</td>\n",
       "      <td>5.0</td>\n",
       "      <td>navada</td>\n",
       "      <td>4</td>\n",
       "    </tr>\n",
       "  </tbody>\n",
       "</table>\n",
       "</div>"
      ],
      "text/plain": [
       "        year  pop   state  debt\n",
       "one     2000  1.5    ohio     4\n",
       "two     2002  2.0    ohio     4\n",
       "three   2004  3.0    ohio     4\n",
       "fourth  2010  2.0  navada     4\n",
       "fifth   2001  5.0  navada     4"
      ]
     },
     "execution_count": 280,
     "metadata": {},
     "output_type": "execute_result"
    }
   ],
   "source": [
    "frame2[\"debt\"]=4\n",
    "frame2"
   ]
  },
  {
   "cell_type": "code",
   "execution_count": 281,
   "id": "narrow-catch",
   "metadata": {},
   "outputs": [
    {
     "data": {
      "text/html": [
       "<div>\n",
       "<style scoped>\n",
       "    .dataframe tbody tr th:only-of-type {\n",
       "        vertical-align: middle;\n",
       "    }\n",
       "\n",
       "    .dataframe tbody tr th {\n",
       "        vertical-align: top;\n",
       "    }\n",
       "\n",
       "    .dataframe thead th {\n",
       "        text-align: right;\n",
       "    }\n",
       "</style>\n",
       "<table border=\"1\" class=\"dataframe\">\n",
       "  <thead>\n",
       "    <tr style=\"text-align: right;\">\n",
       "      <th></th>\n",
       "      <th>year</th>\n",
       "      <th>pop</th>\n",
       "      <th>state</th>\n",
       "      <th>debt</th>\n",
       "    </tr>\n",
       "  </thead>\n",
       "  <tbody>\n",
       "    <tr>\n",
       "      <th>one</th>\n",
       "      <td>2000</td>\n",
       "      <td>1.5</td>\n",
       "      <td>ohio</td>\n",
       "      <td>0</td>\n",
       "    </tr>\n",
       "    <tr>\n",
       "      <th>two</th>\n",
       "      <td>2002</td>\n",
       "      <td>2.0</td>\n",
       "      <td>ohio</td>\n",
       "      <td>1</td>\n",
       "    </tr>\n",
       "    <tr>\n",
       "      <th>three</th>\n",
       "      <td>2004</td>\n",
       "      <td>3.0</td>\n",
       "      <td>ohio</td>\n",
       "      <td>2</td>\n",
       "    </tr>\n",
       "    <tr>\n",
       "      <th>fourth</th>\n",
       "      <td>2010</td>\n",
       "      <td>2.0</td>\n",
       "      <td>navada</td>\n",
       "      <td>3</td>\n",
       "    </tr>\n",
       "    <tr>\n",
       "      <th>fifth</th>\n",
       "      <td>2001</td>\n",
       "      <td>5.0</td>\n",
       "      <td>navada</td>\n",
       "      <td>4</td>\n",
       "    </tr>\n",
       "  </tbody>\n",
       "</table>\n",
       "</div>"
      ],
      "text/plain": [
       "        year  pop   state  debt\n",
       "one     2000  1.5    ohio     0\n",
       "two     2002  2.0    ohio     1\n",
       "three   2004  3.0    ohio     2\n",
       "fourth  2010  2.0  navada     3\n",
       "fifth   2001  5.0  navada     4"
      ]
     },
     "execution_count": 281,
     "metadata": {},
     "output_type": "execute_result"
    }
   ],
   "source": [
    "frame2[\"debt\"]=np.arange(len(frame2))\n",
    "frame2"
   ]
  },
  {
   "cell_type": "code",
   "execution_count": 282,
   "id": "vocal-november",
   "metadata": {},
   "outputs": [
    {
     "data": {
      "text/html": [
       "<div>\n",
       "<style scoped>\n",
       "    .dataframe tbody tr th:only-of-type {\n",
       "        vertical-align: middle;\n",
       "    }\n",
       "\n",
       "    .dataframe tbody tr th {\n",
       "        vertical-align: top;\n",
       "    }\n",
       "\n",
       "    .dataframe thead th {\n",
       "        text-align: right;\n",
       "    }\n",
       "</style>\n",
       "<table border=\"1\" class=\"dataframe\">\n",
       "  <thead>\n",
       "    <tr style=\"text-align: right;\">\n",
       "      <th></th>\n",
       "      <th>year</th>\n",
       "      <th>pop</th>\n",
       "      <th>state</th>\n",
       "      <th>debt</th>\n",
       "    </tr>\n",
       "  </thead>\n",
       "  <tbody>\n",
       "    <tr>\n",
       "      <th>one</th>\n",
       "      <td>2000</td>\n",
       "      <td>1.5</td>\n",
       "      <td>ohio</td>\n",
       "      <td>2</td>\n",
       "    </tr>\n",
       "    <tr>\n",
       "      <th>two</th>\n",
       "      <td>2002</td>\n",
       "      <td>2.0</td>\n",
       "      <td>ohio</td>\n",
       "      <td>3</td>\n",
       "    </tr>\n",
       "    <tr>\n",
       "      <th>three</th>\n",
       "      <td>2004</td>\n",
       "      <td>3.0</td>\n",
       "      <td>ohio</td>\n",
       "      <td>4</td>\n",
       "    </tr>\n",
       "    <tr>\n",
       "      <th>fourth</th>\n",
       "      <td>2010</td>\n",
       "      <td>2.0</td>\n",
       "      <td>navada</td>\n",
       "      <td>5</td>\n",
       "    </tr>\n",
       "    <tr>\n",
       "      <th>fifth</th>\n",
       "      <td>2001</td>\n",
       "      <td>5.0</td>\n",
       "      <td>navada</td>\n",
       "      <td>6</td>\n",
       "    </tr>\n",
       "  </tbody>\n",
       "</table>\n",
       "</div>"
      ],
      "text/plain": [
       "        year  pop   state  debt\n",
       "one     2000  1.5    ohio     2\n",
       "two     2002  2.0    ohio     3\n",
       "three   2004  3.0    ohio     4\n",
       "fourth  2010  2.0  navada     5\n",
       "fifth   2001  5.0  navada     6"
      ]
     },
     "execution_count": 282,
     "metadata": {},
     "output_type": "execute_result"
    }
   ],
   "source": [
    "val =pd.Series([2,3,4,5,6],index=[\"one\",'two', 'three', 'fourth', 'fifth'])\n",
    "frame2[\"debt\"]=val\n",
    "frame2"
   ]
  },
  {
   "cell_type": "code",
   "execution_count": 283,
   "id": "documentary-injury",
   "metadata": {},
   "outputs": [
    {
     "data": {
      "text/html": [
       "<div>\n",
       "<style scoped>\n",
       "    .dataframe tbody tr th:only-of-type {\n",
       "        vertical-align: middle;\n",
       "    }\n",
       "\n",
       "    .dataframe tbody tr th {\n",
       "        vertical-align: top;\n",
       "    }\n",
       "\n",
       "    .dataframe thead th {\n",
       "        text-align: right;\n",
       "    }\n",
       "</style>\n",
       "<table border=\"1\" class=\"dataframe\">\n",
       "  <thead>\n",
       "    <tr style=\"text-align: right;\">\n",
       "      <th></th>\n",
       "      <th>year</th>\n",
       "      <th>pop</th>\n",
       "      <th>state</th>\n",
       "      <th>debt</th>\n",
       "    </tr>\n",
       "  </thead>\n",
       "  <tbody>\n",
       "    <tr>\n",
       "      <th>one</th>\n",
       "      <td>2000</td>\n",
       "      <td>5</td>\n",
       "      <td>0</td>\n",
       "      <td>2</td>\n",
       "    </tr>\n",
       "    <tr>\n",
       "      <th>two</th>\n",
       "      <td>2002</td>\n",
       "      <td>8</td>\n",
       "      <td>1</td>\n",
       "      <td>3</td>\n",
       "    </tr>\n",
       "    <tr>\n",
       "      <th>three</th>\n",
       "      <td>2004</td>\n",
       "      <td>4</td>\n",
       "      <td>2</td>\n",
       "      <td>4</td>\n",
       "    </tr>\n",
       "    <tr>\n",
       "      <th>fourth</th>\n",
       "      <td>2010</td>\n",
       "      <td>7</td>\n",
       "      <td>3</td>\n",
       "      <td>5</td>\n",
       "    </tr>\n",
       "    <tr>\n",
       "      <th>fifth</th>\n",
       "      <td>2001</td>\n",
       "      <td>5</td>\n",
       "      <td>4</td>\n",
       "      <td>6</td>\n",
       "    </tr>\n",
       "  </tbody>\n",
       "</table>\n",
       "</div>"
      ],
      "text/plain": [
       "        year  pop  state  debt\n",
       "one     2000    5      0     2\n",
       "two     2002    8      1     3\n",
       "three   2004    4      2     4\n",
       "fourth  2010    7      3     5\n",
       "fifth   2001    5      4     6"
      ]
     },
     "execution_count": 283,
     "metadata": {},
     "output_type": "execute_result"
    }
   ],
   "source": [
    "frame3=frame2.copy()\n",
    "frame3[\"state\"]=np.arange(len(\"state\"))\n",
    "frame3[\"pop\"]=np.array([5,8,4,7,5])\n",
    "frame3"
   ]
  },
  {
   "cell_type": "code",
   "execution_count": 284,
   "id": "alpine-israeli",
   "metadata": {},
   "outputs": [
    {
     "ename": "SyntaxError",
     "evalue": "invalid syntax (<ipython-input-284-d4376f6f8b95>, line 2)",
     "output_type": "error",
     "traceback": [
      "\u001b[0;36m  File \u001b[0;32m\"<ipython-input-284-d4376f6f8b95>\"\u001b[0;36m, line \u001b[0;32m2\u001b[0m\n\u001b[0;31m    frame3[\"new\"] =\u001b[0m\n\u001b[0m                    ^\u001b[0m\n\u001b[0;31mSyntaxError\u001b[0m\u001b[0;31m:\u001b[0m invalid syntax\n"
     ]
    }
   ],
   "source": [
    "f =lambda x:x*3\n",
    "frame3[\"new\"] = \n",
    "frame3.apply(f,axis=0)\n",
    "frame3"
   ]
  },
  {
   "cell_type": "code",
   "execution_count": 285,
   "id": "ruled-metadata",
   "metadata": {},
   "outputs": [
    {
     "data": {
      "text/html": [
       "<div>\n",
       "<style scoped>\n",
       "    .dataframe tbody tr th:only-of-type {\n",
       "        vertical-align: middle;\n",
       "    }\n",
       "\n",
       "    .dataframe tbody tr th {\n",
       "        vertical-align: top;\n",
       "    }\n",
       "\n",
       "    .dataframe thead th {\n",
       "        text-align: right;\n",
       "    }\n",
       "</style>\n",
       "<table border=\"1\" class=\"dataframe\">\n",
       "  <thead>\n",
       "    <tr style=\"text-align: right;\">\n",
       "      <th></th>\n",
       "      <th>d</th>\n",
       "      <th>a</th>\n",
       "      <th>b</th>\n",
       "      <th>c</th>\n",
       "      <th>e</th>\n",
       "    </tr>\n",
       "  </thead>\n",
       "  <tbody>\n",
       "    <tr>\n",
       "      <th>two</th>\n",
       "      <td>0</td>\n",
       "      <td>1</td>\n",
       "      <td>2</td>\n",
       "      <td>3</td>\n",
       "      <td>4</td>\n",
       "    </tr>\n",
       "    <tr>\n",
       "      <th>one</th>\n",
       "      <td>5</td>\n",
       "      <td>6</td>\n",
       "      <td>7</td>\n",
       "      <td>8</td>\n",
       "      <td>9</td>\n",
       "    </tr>\n",
       "    <tr>\n",
       "      <th>as</th>\n",
       "      <td>10</td>\n",
       "      <td>11</td>\n",
       "      <td>12</td>\n",
       "      <td>13</td>\n",
       "      <td>14</td>\n",
       "    </tr>\n",
       "    <tr>\n",
       "      <th>asd</th>\n",
       "      <td>15</td>\n",
       "      <td>16</td>\n",
       "      <td>17</td>\n",
       "      <td>18</td>\n",
       "      <td>19</td>\n",
       "    </tr>\n",
       "    <tr>\n",
       "      <th>df</th>\n",
       "      <td>20</td>\n",
       "      <td>21</td>\n",
       "      <td>22</td>\n",
       "      <td>23</td>\n",
       "      <td>24</td>\n",
       "    </tr>\n",
       "    <tr>\n",
       "      <th>ascd</th>\n",
       "      <td>25</td>\n",
       "      <td>26</td>\n",
       "      <td>27</td>\n",
       "      <td>28</td>\n",
       "      <td>29</td>\n",
       "    </tr>\n",
       "    <tr>\n",
       "      <th>bv</th>\n",
       "      <td>30</td>\n",
       "      <td>31</td>\n",
       "      <td>32</td>\n",
       "      <td>33</td>\n",
       "      <td>34</td>\n",
       "    </tr>\n",
       "    <tr>\n",
       "      <th>r</th>\n",
       "      <td>35</td>\n",
       "      <td>36</td>\n",
       "      <td>37</td>\n",
       "      <td>38</td>\n",
       "      <td>39</td>\n",
       "    </tr>\n",
       "  </tbody>\n",
       "</table>\n",
       "</div>"
      ],
      "text/plain": [
       "       d   a   b   c   e\n",
       "two    0   1   2   3   4\n",
       "one    5   6   7   8   9\n",
       "as    10  11  12  13  14\n",
       "asd   15  16  17  18  19\n",
       "df    20  21  22  23  24\n",
       "ascd  25  26  27  28  29\n",
       "bv    30  31  32  33  34\n",
       "r     35  36  37  38  39"
      ]
     },
     "execution_count": 285,
     "metadata": {},
     "output_type": "execute_result"
    }
   ],
   "source": [
    "df6=pd.DataFrame(np.arange(40).reshape((8,5)),\n",
    "                index=[\"two\",\"one\",\"as\",\"asd\",\"df\",\"ascd\",\"bv\",\"r\"],columns=[\"d\",\"a\",\"b\",\"c\",\"e\"])\n",
    "df6"
   ]
  },
  {
   "cell_type": "code",
   "execution_count": 286,
   "id": "handed-margin",
   "metadata": {},
   "outputs": [
    {
     "data": {
      "text/html": [
       "<div>\n",
       "<style scoped>\n",
       "    .dataframe tbody tr th:only-of-type {\n",
       "        vertical-align: middle;\n",
       "    }\n",
       "\n",
       "    .dataframe tbody tr th {\n",
       "        vertical-align: top;\n",
       "    }\n",
       "\n",
       "    .dataframe thead th {\n",
       "        text-align: right;\n",
       "    }\n",
       "</style>\n",
       "<table border=\"1\" class=\"dataframe\">\n",
       "  <thead>\n",
       "    <tr style=\"text-align: right;\">\n",
       "      <th></th>\n",
       "      <th>e</th>\n",
       "      <th>d</th>\n",
       "      <th>c</th>\n",
       "      <th>b</th>\n",
       "      <th>a</th>\n",
       "    </tr>\n",
       "  </thead>\n",
       "  <tbody>\n",
       "    <tr>\n",
       "      <th>two</th>\n",
       "      <td>4</td>\n",
       "      <td>0</td>\n",
       "      <td>3</td>\n",
       "      <td>2</td>\n",
       "      <td>1</td>\n",
       "    </tr>\n",
       "    <tr>\n",
       "      <th>one</th>\n",
       "      <td>9</td>\n",
       "      <td>5</td>\n",
       "      <td>8</td>\n",
       "      <td>7</td>\n",
       "      <td>6</td>\n",
       "    </tr>\n",
       "    <tr>\n",
       "      <th>as</th>\n",
       "      <td>14</td>\n",
       "      <td>10</td>\n",
       "      <td>13</td>\n",
       "      <td>12</td>\n",
       "      <td>11</td>\n",
       "    </tr>\n",
       "    <tr>\n",
       "      <th>asd</th>\n",
       "      <td>19</td>\n",
       "      <td>15</td>\n",
       "      <td>18</td>\n",
       "      <td>17</td>\n",
       "      <td>16</td>\n",
       "    </tr>\n",
       "    <tr>\n",
       "      <th>df</th>\n",
       "      <td>24</td>\n",
       "      <td>20</td>\n",
       "      <td>23</td>\n",
       "      <td>22</td>\n",
       "      <td>21</td>\n",
       "    </tr>\n",
       "    <tr>\n",
       "      <th>ascd</th>\n",
       "      <td>29</td>\n",
       "      <td>25</td>\n",
       "      <td>28</td>\n",
       "      <td>27</td>\n",
       "      <td>26</td>\n",
       "    </tr>\n",
       "    <tr>\n",
       "      <th>bv</th>\n",
       "      <td>34</td>\n",
       "      <td>30</td>\n",
       "      <td>33</td>\n",
       "      <td>32</td>\n",
       "      <td>31</td>\n",
       "    </tr>\n",
       "    <tr>\n",
       "      <th>r</th>\n",
       "      <td>39</td>\n",
       "      <td>35</td>\n",
       "      <td>38</td>\n",
       "      <td>37</td>\n",
       "      <td>36</td>\n",
       "    </tr>\n",
       "  </tbody>\n",
       "</table>\n",
       "</div>"
      ],
      "text/plain": [
       "       e   d   c   b   a\n",
       "two    4   0   3   2   1\n",
       "one    9   5   8   7   6\n",
       "as    14  10  13  12  11\n",
       "asd   19  15  18  17  16\n",
       "df    24  20  23  22  21\n",
       "ascd  29  25  28  27  26\n",
       "bv    34  30  33  32  31\n",
       "r     39  35  38  37  36"
      ]
     },
     "execution_count": 286,
     "metadata": {},
     "output_type": "execute_result"
    }
   ],
   "source": [
    "df6.sort_index(axis=1,ascending=False)"
   ]
  },
  {
   "cell_type": "code",
   "execution_count": 287,
   "id": "annoying-action",
   "metadata": {},
   "outputs": [
    {
     "data": {
      "text/html": [
       "<div>\n",
       "<style scoped>\n",
       "    .dataframe tbody tr th:only-of-type {\n",
       "        vertical-align: middle;\n",
       "    }\n",
       "\n",
       "    .dataframe tbody tr th {\n",
       "        vertical-align: top;\n",
       "    }\n",
       "\n",
       "    .dataframe thead th {\n",
       "        text-align: right;\n",
       "    }\n",
       "</style>\n",
       "<table border=\"1\" class=\"dataframe\">\n",
       "  <thead>\n",
       "    <tr style=\"text-align: right;\">\n",
       "      <th></th>\n",
       "      <th>d</th>\n",
       "      <th>a</th>\n",
       "      <th>b</th>\n",
       "      <th>c</th>\n",
       "      <th>e</th>\n",
       "    </tr>\n",
       "  </thead>\n",
       "  <tbody>\n",
       "    <tr>\n",
       "      <th>as</th>\n",
       "      <td>10</td>\n",
       "      <td>11</td>\n",
       "      <td>12</td>\n",
       "      <td>13</td>\n",
       "      <td>14</td>\n",
       "    </tr>\n",
       "    <tr>\n",
       "      <th>ascd</th>\n",
       "      <td>25</td>\n",
       "      <td>26</td>\n",
       "      <td>27</td>\n",
       "      <td>28</td>\n",
       "      <td>29</td>\n",
       "    </tr>\n",
       "    <tr>\n",
       "      <th>asd</th>\n",
       "      <td>15</td>\n",
       "      <td>16</td>\n",
       "      <td>17</td>\n",
       "      <td>18</td>\n",
       "      <td>19</td>\n",
       "    </tr>\n",
       "    <tr>\n",
       "      <th>bv</th>\n",
       "      <td>30</td>\n",
       "      <td>31</td>\n",
       "      <td>32</td>\n",
       "      <td>33</td>\n",
       "      <td>34</td>\n",
       "    </tr>\n",
       "    <tr>\n",
       "      <th>df</th>\n",
       "      <td>20</td>\n",
       "      <td>21</td>\n",
       "      <td>22</td>\n",
       "      <td>23</td>\n",
       "      <td>24</td>\n",
       "    </tr>\n",
       "    <tr>\n",
       "      <th>one</th>\n",
       "      <td>5</td>\n",
       "      <td>6</td>\n",
       "      <td>7</td>\n",
       "      <td>8</td>\n",
       "      <td>9</td>\n",
       "    </tr>\n",
       "    <tr>\n",
       "      <th>r</th>\n",
       "      <td>35</td>\n",
       "      <td>36</td>\n",
       "      <td>37</td>\n",
       "      <td>38</td>\n",
       "      <td>39</td>\n",
       "    </tr>\n",
       "    <tr>\n",
       "      <th>two</th>\n",
       "      <td>0</td>\n",
       "      <td>1</td>\n",
       "      <td>2</td>\n",
       "      <td>3</td>\n",
       "      <td>4</td>\n",
       "    </tr>\n",
       "  </tbody>\n",
       "</table>\n",
       "</div>"
      ],
      "text/plain": [
       "       d   a   b   c   e\n",
       "as    10  11  12  13  14\n",
       "ascd  25  26  27  28  29\n",
       "asd   15  16  17  18  19\n",
       "bv    30  31  32  33  34\n",
       "df    20  21  22  23  24\n",
       "one    5   6   7   8   9\n",
       "r     35  36  37  38  39\n",
       "two    0   1   2   3   4"
      ]
     },
     "execution_count": 287,
     "metadata": {},
     "output_type": "execute_result"
    }
   ],
   "source": [
    "df6.sort_index()"
   ]
  },
  {
   "cell_type": "code",
   "execution_count": null,
   "id": "naval-message",
   "metadata": {},
   "outputs": [],
   "source": []
  },
  {
   "cell_type": "code",
   "execution_count": 288,
   "id": "photographic-pointer",
   "metadata": {},
   "outputs": [
    {
     "data": {
      "text/html": [
       "<div>\n",
       "<style scoped>\n",
       "    .dataframe tbody tr th:only-of-type {\n",
       "        vertical-align: middle;\n",
       "    }\n",
       "\n",
       "    .dataframe tbody tr th {\n",
       "        vertical-align: top;\n",
       "    }\n",
       "\n",
       "    .dataframe thead th {\n",
       "        text-align: right;\n",
       "    }\n",
       "</style>\n",
       "<table border=\"1\" class=\"dataframe\">\n",
       "  <thead>\n",
       "    <tr style=\"text-align: right;\">\n",
       "      <th></th>\n",
       "      <th>d</th>\n",
       "      <th>a</th>\n",
       "      <th>b</th>\n",
       "      <th>c</th>\n",
       "      <th>e</th>\n",
       "    </tr>\n",
       "  </thead>\n",
       "  <tbody>\n",
       "    <tr>\n",
       "      <th>two</th>\n",
       "      <td>0</td>\n",
       "      <td>1</td>\n",
       "      <td>2</td>\n",
       "      <td>3</td>\n",
       "      <td>4</td>\n",
       "    </tr>\n",
       "    <tr>\n",
       "      <th>one</th>\n",
       "      <td>5</td>\n",
       "      <td>6</td>\n",
       "      <td>7</td>\n",
       "      <td>8</td>\n",
       "      <td>9</td>\n",
       "    </tr>\n",
       "    <tr>\n",
       "      <th>as</th>\n",
       "      <td>10</td>\n",
       "      <td>11</td>\n",
       "      <td>12</td>\n",
       "      <td>13</td>\n",
       "      <td>14</td>\n",
       "    </tr>\n",
       "    <tr>\n",
       "      <th>asd</th>\n",
       "      <td>15</td>\n",
       "      <td>16</td>\n",
       "      <td>17</td>\n",
       "      <td>18</td>\n",
       "      <td>19</td>\n",
       "    </tr>\n",
       "    <tr>\n",
       "      <th>df</th>\n",
       "      <td>20</td>\n",
       "      <td>21</td>\n",
       "      <td>22</td>\n",
       "      <td>23</td>\n",
       "      <td>24</td>\n",
       "    </tr>\n",
       "    <tr>\n",
       "      <th>ascd</th>\n",
       "      <td>25</td>\n",
       "      <td>26</td>\n",
       "      <td>27</td>\n",
       "      <td>28</td>\n",
       "      <td>29</td>\n",
       "    </tr>\n",
       "    <tr>\n",
       "      <th>bv</th>\n",
       "      <td>30</td>\n",
       "      <td>31</td>\n",
       "      <td>32</td>\n",
       "      <td>33</td>\n",
       "      <td>34</td>\n",
       "    </tr>\n",
       "    <tr>\n",
       "      <th>r</th>\n",
       "      <td>35</td>\n",
       "      <td>36</td>\n",
       "      <td>37</td>\n",
       "      <td>38</td>\n",
       "      <td>39</td>\n",
       "    </tr>\n",
       "  </tbody>\n",
       "</table>\n",
       "</div>"
      ],
      "text/plain": [
       "       d   a   b   c   e\n",
       "two    0   1   2   3   4\n",
       "one    5   6   7   8   9\n",
       "as    10  11  12  13  14\n",
       "asd   15  16  17  18  19\n",
       "df    20  21  22  23  24\n",
       "ascd  25  26  27  28  29\n",
       "bv    30  31  32  33  34\n",
       "r     35  36  37  38  39"
      ]
     },
     "execution_count": 288,
     "metadata": {},
     "output_type": "execute_result"
    }
   ],
   "source": [
    "df6.sort_values(by=\"b\")"
   ]
  },
  {
   "cell_type": "code",
   "execution_count": 289,
   "id": "broad-gibraltar",
   "metadata": {},
   "outputs": [
    {
     "data": {
      "text/plain": [
       "two      2.0\n",
       "one      7.0\n",
       "as      12.0\n",
       "asd     17.0\n",
       "df      22.0\n",
       "ascd    27.0\n",
       "bv      32.0\n",
       "r       37.0\n",
       "dtype: float64"
      ]
     },
     "execution_count": 289,
     "metadata": {},
     "output_type": "execute_result"
    }
   ],
   "source": [
    "df6.mean(axis=\"columns\")"
   ]
  },
  {
   "cell_type": "code",
   "execution_count": 290,
   "id": "designing-mechanism",
   "metadata": {},
   "outputs": [
    {
     "data": {
      "text/plain": [
       "array([ 1,  6, 11, 16, 21, 26, 31, 36])"
      ]
     },
     "execution_count": 290,
     "metadata": {},
     "output_type": "execute_result"
    }
   ],
   "source": [
    "df6[\"a\"].unique()"
   ]
  },
  {
   "cell_type": "code",
   "execution_count": 291,
   "id": "southeast-third",
   "metadata": {},
   "outputs": [
    {
     "data": {
      "text/plain": [
       "16    1\n",
       "1     1\n",
       "36    1\n",
       "21    1\n",
       "6     1\n",
       "26    1\n",
       "11    1\n",
       "31    1\n",
       "Name: a, dtype: int64"
      ]
     },
     "execution_count": 291,
     "metadata": {},
     "output_type": "execute_result"
    }
   ],
   "source": [
    "df6[\"a\"].value_counts()"
   ]
  },
  {
   "cell_type": "code",
   "execution_count": 292,
   "id": "excessive-forwarding",
   "metadata": {},
   "outputs": [
    {
     "data": {
      "text/html": [
       "<div>\n",
       "<style scoped>\n",
       "    .dataframe tbody tr th:only-of-type {\n",
       "        vertical-align: middle;\n",
       "    }\n",
       "\n",
       "    .dataframe tbody tr th {\n",
       "        vertical-align: top;\n",
       "    }\n",
       "\n",
       "    .dataframe thead th {\n",
       "        text-align: right;\n",
       "    }\n",
       "</style>\n",
       "<table border=\"1\" class=\"dataframe\">\n",
       "  <thead>\n",
       "    <tr style=\"text-align: right;\">\n",
       "      <th></th>\n",
       "      <th>c</th>\n",
       "      <th>e</th>\n",
       "      <th>d</th>\n",
       "    </tr>\n",
       "  </thead>\n",
       "  <tbody>\n",
       "    <tr>\n",
       "      <th>two</th>\n",
       "      <td>3</td>\n",
       "      <td>4</td>\n",
       "      <td>0</td>\n",
       "    </tr>\n",
       "    <tr>\n",
       "      <th>one</th>\n",
       "      <td>8</td>\n",
       "      <td>9</td>\n",
       "      <td>5</td>\n",
       "    </tr>\n",
       "    <tr>\n",
       "      <th>as</th>\n",
       "      <td>13</td>\n",
       "      <td>14</td>\n",
       "      <td>10</td>\n",
       "    </tr>\n",
       "    <tr>\n",
       "      <th>asd</th>\n",
       "      <td>18</td>\n",
       "      <td>19</td>\n",
       "      <td>15</td>\n",
       "    </tr>\n",
       "    <tr>\n",
       "      <th>df</th>\n",
       "      <td>23</td>\n",
       "      <td>24</td>\n",
       "      <td>20</td>\n",
       "    </tr>\n",
       "    <tr>\n",
       "      <th>ascd</th>\n",
       "      <td>28</td>\n",
       "      <td>29</td>\n",
       "      <td>25</td>\n",
       "    </tr>\n",
       "    <tr>\n",
       "      <th>bv</th>\n",
       "      <td>33</td>\n",
       "      <td>34</td>\n",
       "      <td>30</td>\n",
       "    </tr>\n",
       "    <tr>\n",
       "      <th>r</th>\n",
       "      <td>38</td>\n",
       "      <td>39</td>\n",
       "      <td>35</td>\n",
       "    </tr>\n",
       "  </tbody>\n",
       "</table>\n",
       "</div>"
      ],
      "text/plain": [
       "       c   e   d\n",
       "two    3   4   0\n",
       "one    8   9   5\n",
       "as    13  14  10\n",
       "asd   18  19  15\n",
       "df    23  24  20\n",
       "ascd  28  29  25\n",
       "bv    33  34  30\n",
       "r     38  39  35"
      ]
     },
     "execution_count": 292,
     "metadata": {},
     "output_type": "execute_result"
    }
   ],
   "source": [
    "df6.iloc[:,[3,4,0]]"
   ]
  },
  {
   "cell_type": "code",
   "execution_count": 293,
   "id": "excellent-province",
   "metadata": {},
   "outputs": [],
   "source": [
    "df7=df6.copy()\n",
    "df7[\"a\"]=np.nan"
   ]
  },
  {
   "cell_type": "code",
   "execution_count": 294,
   "id": "express-filter",
   "metadata": {},
   "outputs": [],
   "source": [
    "add=df6.add(df7,fill_value=0)"
   ]
  },
  {
   "cell_type": "code",
   "execution_count": 295,
   "id": "iraqi-browser",
   "metadata": {},
   "outputs": [
    {
     "data": {
      "text/html": [
       "<div>\n",
       "<style scoped>\n",
       "    .dataframe tbody tr th:only-of-type {\n",
       "        vertical-align: middle;\n",
       "    }\n",
       "\n",
       "    .dataframe tbody tr th {\n",
       "        vertical-align: top;\n",
       "    }\n",
       "\n",
       "    .dataframe thead th {\n",
       "        text-align: right;\n",
       "    }\n",
       "</style>\n",
       "<table border=\"1\" class=\"dataframe\">\n",
       "  <thead>\n",
       "    <tr style=\"text-align: right;\">\n",
       "      <th></th>\n",
       "      <th>d</th>\n",
       "      <th>a</th>\n",
       "      <th>b</th>\n",
       "      <th>c</th>\n",
       "      <th>e</th>\n",
       "    </tr>\n",
       "  </thead>\n",
       "  <tbody>\n",
       "    <tr>\n",
       "      <th>two</th>\n",
       "      <td>0</td>\n",
       "      <td>1.0</td>\n",
       "      <td>4</td>\n",
       "      <td>6</td>\n",
       "      <td>8</td>\n",
       "    </tr>\n",
       "    <tr>\n",
       "      <th>one</th>\n",
       "      <td>10</td>\n",
       "      <td>6.0</td>\n",
       "      <td>14</td>\n",
       "      <td>16</td>\n",
       "      <td>18</td>\n",
       "    </tr>\n",
       "    <tr>\n",
       "      <th>as</th>\n",
       "      <td>20</td>\n",
       "      <td>11.0</td>\n",
       "      <td>24</td>\n",
       "      <td>26</td>\n",
       "      <td>28</td>\n",
       "    </tr>\n",
       "    <tr>\n",
       "      <th>asd</th>\n",
       "      <td>30</td>\n",
       "      <td>16.0</td>\n",
       "      <td>34</td>\n",
       "      <td>36</td>\n",
       "      <td>38</td>\n",
       "    </tr>\n",
       "    <tr>\n",
       "      <th>df</th>\n",
       "      <td>40</td>\n",
       "      <td>21.0</td>\n",
       "      <td>44</td>\n",
       "      <td>46</td>\n",
       "      <td>48</td>\n",
       "    </tr>\n",
       "    <tr>\n",
       "      <th>ascd</th>\n",
       "      <td>50</td>\n",
       "      <td>26.0</td>\n",
       "      <td>54</td>\n",
       "      <td>56</td>\n",
       "      <td>58</td>\n",
       "    </tr>\n",
       "    <tr>\n",
       "      <th>bv</th>\n",
       "      <td>60</td>\n",
       "      <td>31.0</td>\n",
       "      <td>64</td>\n",
       "      <td>66</td>\n",
       "      <td>68</td>\n",
       "    </tr>\n",
       "    <tr>\n",
       "      <th>r</th>\n",
       "      <td>70</td>\n",
       "      <td>36.0</td>\n",
       "      <td>74</td>\n",
       "      <td>76</td>\n",
       "      <td>78</td>\n",
       "    </tr>\n",
       "  </tbody>\n",
       "</table>\n",
       "</div>"
      ],
      "text/plain": [
       "       d     a   b   c   e\n",
       "two    0   1.0   4   6   8\n",
       "one   10   6.0  14  16  18\n",
       "as    20  11.0  24  26  28\n",
       "asd   30  16.0  34  36  38\n",
       "df    40  21.0  44  46  48\n",
       "ascd  50  26.0  54  56  58\n",
       "bv    60  31.0  64  66  68\n",
       "r     70  36.0  74  76  78"
      ]
     },
     "execution_count": 295,
     "metadata": {},
     "output_type": "execute_result"
    }
   ],
   "source": [
    "add"
   ]
  },
  {
   "cell_type": "code",
   "execution_count": 296,
   "id": "therapeutic-vocabulary",
   "metadata": {},
   "outputs": [
    {
     "data": {
      "text/html": [
       "<div>\n",
       "<style scoped>\n",
       "    .dataframe tbody tr th:only-of-type {\n",
       "        vertical-align: middle;\n",
       "    }\n",
       "\n",
       "    .dataframe tbody tr th {\n",
       "        vertical-align: top;\n",
       "    }\n",
       "\n",
       "    .dataframe thead th {\n",
       "        text-align: right;\n",
       "    }\n",
       "</style>\n",
       "<table border=\"1\" class=\"dataframe\">\n",
       "  <thead>\n",
       "    <tr style=\"text-align: right;\">\n",
       "      <th></th>\n",
       "      <th>d</th>\n",
       "      <th>a</th>\n",
       "      <th>b</th>\n",
       "      <th>c</th>\n",
       "      <th>e</th>\n",
       "    </tr>\n",
       "  </thead>\n",
       "  <tbody>\n",
       "    <tr>\n",
       "      <th>two</th>\n",
       "      <td>-2</td>\n",
       "      <td>-1.0</td>\n",
       "      <td>2</td>\n",
       "      <td>4</td>\n",
       "      <td>6</td>\n",
       "    </tr>\n",
       "    <tr>\n",
       "      <th>one</th>\n",
       "      <td>8</td>\n",
       "      <td>4.0</td>\n",
       "      <td>12</td>\n",
       "      <td>14</td>\n",
       "      <td>16</td>\n",
       "    </tr>\n",
       "    <tr>\n",
       "      <th>as</th>\n",
       "      <td>18</td>\n",
       "      <td>9.0</td>\n",
       "      <td>22</td>\n",
       "      <td>24</td>\n",
       "      <td>26</td>\n",
       "    </tr>\n",
       "    <tr>\n",
       "      <th>asd</th>\n",
       "      <td>28</td>\n",
       "      <td>14.0</td>\n",
       "      <td>32</td>\n",
       "      <td>34</td>\n",
       "      <td>36</td>\n",
       "    </tr>\n",
       "    <tr>\n",
       "      <th>df</th>\n",
       "      <td>38</td>\n",
       "      <td>19.0</td>\n",
       "      <td>42</td>\n",
       "      <td>44</td>\n",
       "      <td>46</td>\n",
       "    </tr>\n",
       "    <tr>\n",
       "      <th>ascd</th>\n",
       "      <td>48</td>\n",
       "      <td>24.0</td>\n",
       "      <td>52</td>\n",
       "      <td>54</td>\n",
       "      <td>56</td>\n",
       "    </tr>\n",
       "    <tr>\n",
       "      <th>bv</th>\n",
       "      <td>58</td>\n",
       "      <td>29.0</td>\n",
       "      <td>62</td>\n",
       "      <td>64</td>\n",
       "      <td>66</td>\n",
       "    </tr>\n",
       "    <tr>\n",
       "      <th>r</th>\n",
       "      <td>68</td>\n",
       "      <td>34.0</td>\n",
       "      <td>72</td>\n",
       "      <td>74</td>\n",
       "      <td>76</td>\n",
       "    </tr>\n",
       "  </tbody>\n",
       "</table>\n",
       "</div>"
      ],
      "text/plain": [
       "       d     a   b   c   e\n",
       "two   -2  -1.0   2   4   6\n",
       "one    8   4.0  12  14  16\n",
       "as    18   9.0  22  24  26\n",
       "asd   28  14.0  32  34  36\n",
       "df    38  19.0  42  44  46\n",
       "ascd  48  24.0  52  54  56\n",
       "bv    58  29.0  62  64  66\n",
       "r     68  34.0  72  74  76"
      ]
     },
     "execution_count": 296,
     "metadata": {},
     "output_type": "execute_result"
    }
   ],
   "source": [
    "a=pd.Series([2,2,2,2,2],index=list(\"dabce\"))\n",
    "g=add-a\n",
    "g"
   ]
  },
  {
   "cell_type": "code",
   "execution_count": null,
   "id": "lasting-screw",
   "metadata": {},
   "outputs": [],
   "source": []
  },
  {
   "cell_type": "code",
   "execution_count": null,
   "id": "severe-monte",
   "metadata": {},
   "outputs": [],
   "source": []
  },
  {
   "cell_type": "code",
   "execution_count": null,
   "id": "supreme-america",
   "metadata": {},
   "outputs": [],
   "source": []
  },
  {
   "cell_type": "code",
   "execution_count": null,
   "id": "satisfied-novelty",
   "metadata": {},
   "outputs": [],
   "source": []
  }
 ],
 "metadata": {
  "kernelspec": {
   "display_name": "Python 3",
   "language": "python",
   "name": "python3"
  },
  "language_info": {
   "codemirror_mode": {
    "name": "ipython",
    "version": 3
   },
   "file_extension": ".py",
   "mimetype": "text/x-python",
   "name": "python",
   "nbconvert_exporter": "python",
   "pygments_lexer": "ipython3",
   "version": "3.8.5"
  }
 },
 "nbformat": 4,
 "nbformat_minor": 5
}
