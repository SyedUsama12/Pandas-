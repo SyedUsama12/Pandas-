{
 "cells": [
  {
   "cell_type": "code",
   "execution_count": 1,
   "id": "figured-narrow",
   "metadata": {},
   "outputs": [],
   "source": [
    "class student:\n",
    "    def __int__(self,name,age,standard,grade):\n",
    "        self.name=name\n",
    "        self.age=age\n",
    "        self.standard=standard\n",
    "        self.grade=grade\n",
    "        \n",
    "        \n"
   ]
  },
  {
   "cell_type": "code",
   "execution_count": null,
   "id": "unexpected-prospect",
   "metadata": {},
   "outputs": [],
   "source": []
  }
 ],
 "metadata": {
  "kernelspec": {
   "display_name": "Python 3",
   "language": "python",
   "name": "python3"
  },
  "language_info": {
   "codemirror_mode": {
    "name": "ipython",
    "version": 3
   },
   "file_extension": ".py",
   "mimetype": "text/x-python",
   "name": "python",
   "nbconvert_exporter": "python",
   "pygments_lexer": "ipython3",
   "version": "3.8.5"
  }
 },
 "nbformat": 4,
 "nbformat_minor": 5
}
